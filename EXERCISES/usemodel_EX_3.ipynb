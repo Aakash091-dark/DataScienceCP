{
  "nbformat": 4,
  "nbformat_minor": 0,
  "metadata": {
    "colab": {
      "provenance": []
    },
    "kernelspec": {
      "name": "python3",
      "display_name": "Python 3"
    },
    "language_info": {
      "name": "python"
    }
  },
  "cells": [
    {
      "cell_type": "code",
      "execution_count": 1,
      "metadata": {
        "colab": {
          "base_uri": "https://localhost:8080/"
        },
        "id": "_DgoEEu1pR0p",
        "outputId": "f906a306-d8f0-4b95-cebb-0107a829acc5"
      },
      "outputs": [
        {
          "output_type": "stream",
          "name": "stdout",
          "text": [
            "Model Coefficients: [1.]\n",
            "Model Intercept: 15.000000000000004\n"
          ]
        }
      ],
      "source": [
        "import numpy as np\n",
        "import pandas as pd\n",
        "from sklearn.linear_model import LinearRegression\n",
        "import joblib\n",
        "\n",
        "# Create a dataset\n",
        "data = {\n",
        "    'harness_size': [12, 11, 10, 14, 13, 9, 15],\n",
        "    'boot_size': [27, 26, 25, 29, 28, 24, 30]\n",
        "}\n",
        "df = pd.DataFrame(data)\n",
        "\n",
        "# Prepare the data\n",
        "X = df[['harness_size']]  # Features\n",
        "y = df['boot_size']       # Labels\n",
        "\n",
        "# Train the model\n",
        "model = LinearRegression()\n",
        "model.fit(X, y)\n",
        "\n",
        "# Display model coefficients\n",
        "print(\"Model Coefficients:\", model.coef_)\n",
        "print(\"Model Intercept:\", model.intercept_)\n"
      ]
    },
    {
      "cell_type": "code",
      "source": [
        "# Save the model to a file\n",
        "joblib_file = \"dog_boot_size_model.pkl\"\n",
        "joblib.dump(model, joblib_file)\n",
        "print(f\"Model saved to {joblib_file}\")\n"
      ],
      "metadata": {
        "colab": {
          "base_uri": "https://localhost:8080/"
        },
        "id": "giHUuNa9phdy",
        "outputId": "17e43b16-2608-4df0-de6f-63b3b82ef73a"
      },
      "execution_count": 2,
      "outputs": [
        {
          "output_type": "stream",
          "name": "stdout",
          "text": [
            "Model saved to dog_boot_size_model.pkl\n"
          ]
        }
      ]
    },
    {
      "cell_type": "code",
      "source": [
        "# Load the model from the file\n",
        "loaded_model = joblib.load(joblib_file)\n",
        "print(\"Model loaded from disk\")\n"
      ],
      "metadata": {
        "colab": {
          "base_uri": "https://localhost:8080/"
        },
        "id": "HBG5QVCDpj3D",
        "outputId": "b85e6bc6-3261-415e-f270-f80705527b15"
      },
      "execution_count": 3,
      "outputs": [
        {
          "output_type": "stream",
          "name": "stdout",
          "text": [
            "Model loaded from disk\n"
          ]
        }
      ]
    },
    {
      "cell_type": "code",
      "source": [
        "# Predict boot size for a new harness size\n",
        "new_harness_size = 13.5\n",
        "predicted_boot_size = loaded_model.predict([[new_harness_size]])\n",
        "print(f\"Predicted boot size for harness size {new_harness_size}: {predicted_boot_size[0]}\")\n"
      ],
      "metadata": {
        "id": "dyjGsfT-pqJc",
        "outputId": "a5ba1b61-1a86-4336-f4b6-fb293097e4a0",
        "colab": {
          "base_uri": "https://localhost:8080/"
        }
      },
      "execution_count": 4,
      "outputs": [
        {
          "output_type": "stream",
          "name": "stdout",
          "text": [
            "Predicted boot size for harness size 13.5: 28.5\n"
          ]
        },
        {
          "output_type": "stream",
          "name": "stderr",
          "text": [
            "/usr/local/lib/python3.10/dist-packages/sklearn/utils/validation.py:2739: UserWarning: X does not have valid feature names, but LinearRegression was fitted with feature names\n",
            "  warnings.warn(\n"
          ]
        }
      ]
    },
    {
      "cell_type": "code",
      "source": [],
      "metadata": {
        "id": "LvuSjIIPprc2"
      },
      "execution_count": null,
      "outputs": []
    }
  ]
}